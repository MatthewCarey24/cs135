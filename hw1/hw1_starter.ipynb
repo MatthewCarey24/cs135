{
 "cells": [
  {
   "cell_type": "markdown",
   "metadata": {},
   "source": [
    "# HW1 : Regression, Cross-Validation, and  Regularization"
   ]
  },
  {
   "cell_type": "code",
   "execution_count": 121,
   "metadata": {},
   "outputs": [],
   "source": [
    "import os\n",
    "import numpy as np\n",
    "import pandas as pd\n",
    " \n",
    "import sklearn.preprocessing\n",
    "import sklearn.pipeline\n",
    "import sklearn.linear_model"
   ]
  },
  {
   "cell_type": "code",
   "execution_count": 122,
   "metadata": {},
   "outputs": [],
   "source": [
    "from matplotlib import pyplot as plt\n",
    "\n",
    "import seaborn as sns\n",
    "sns.set('notebook', font_scale=1.25, style='whitegrid')"
   ]
  },
  {
   "cell_type": "markdown",
   "metadata": {},
   "source": [
    "### Configuration"
   ]
  },
  {
   "cell_type": "code",
   "execution_count": 123,
   "metadata": {},
   "outputs": [],
   "source": [
    "SEED = 12345 \n",
    "\n",
    "DATA_DIR = 'data_auto/'"
   ]
  },
  {
   "cell_type": "markdown",
   "metadata": {},
   "source": [
    "### Methods for loading dataset"
   ]
  },
  {
   "cell_type": "code",
   "execution_count": 124,
   "metadata": {},
   "outputs": [],
   "source": [
    "def load_2d_arr_from_csv(fname, include_header=False):\n",
    "    x = np.loadtxt(os.path.join(DATA_DIR, fname), delimiter=',', skiprows=1)\n",
    "    assert x.ndim == 2\n",
    "    if include_header:\n",
    "        header_cols = np.loadtxt(os.path.join(DATA_DIR, fname), delimiter=',', dtype=str)[0].tolist()\n",
    "        return x, header_cols\n",
    "    else:\n",
    "        return x\n",
    "    \n",
    "def load_1d_arr_from_csv(fname):\n",
    "    x = np.loadtxt(os.path.join(DATA_DIR, fname), delimiter=',', skiprows=1)\n",
    "    if x.ndim == 1:\n",
    "        return x\n",
    "    else:\n",
    "        raise ValueError(\"Not 1d\")"
   ]
  },
  {
   "cell_type": "markdown",
   "metadata": {},
   "source": [
    "# Load the dataset\n",
    "\n",
    "Predefined 'x' and 'y' arrays for train/valid/test"
   ]
  },
  {
   "cell_type": "code",
   "execution_count": 125,
   "metadata": {},
   "outputs": [],
   "source": [
    "x_tr_MF, xcolnames_F = load_2d_arr_from_csv('x_train.csv', include_header=True)\n",
    "x_va_NF = load_2d_arr_from_csv('x_valid.csv')\n",
    "x_te_PF = load_2d_arr_from_csv('x_test.csv')"
   ]
  },
  {
   "cell_type": "code",
   "execution_count": 126,
   "metadata": {},
   "outputs": [
    {
     "name": "stdout",
     "output_type": "stream",
     "text": [
      "['horsepower', 'weight', 'cylinders', 'displacement']\n"
     ]
    }
   ],
   "source": [
    "print(xcolnames_F)"
   ]
  },
  {
   "cell_type": "code",
   "execution_count": 127,
   "metadata": {},
   "outputs": [
    {
     "name": "stdout",
     "output_type": "stream",
     "text": [
      "[[ 115. 2595.    6.  173.]\n",
      " [ 180. 4380.    8.  350.]\n",
      " [ 150. 4457.    8.  318.]\n",
      " [ 105. 3897.    6.  250.]\n",
      " [ 193. 4732.    8.  304.]]\n"
     ]
    }
   ],
   "source": [
    "print(x_tr_MF[:5])"
   ]
  },
  {
   "cell_type": "code",
   "execution_count": 128,
   "metadata": {},
   "outputs": [],
   "source": [
    "y_tr_M = load_1d_arr_from_csv('y_train.csv')\n",
    "y_va_N = load_1d_arr_from_csv('y_valid.csv')\n",
    "y_te_P = load_1d_arr_from_csv('y_test.csv')"
   ]
  },
  {
   "cell_type": "code",
   "execution_count": 129,
   "metadata": {},
   "outputs": [
    {
     "name": "stdout",
     "output_type": "stream",
     "text": [
      "[[28.8]\n",
      " [16.5]\n",
      " [14. ]\n",
      " [16. ]\n",
      " [ 9. ]]\n"
     ]
    }
   ],
   "source": [
    "print(y_tr_M[:5,np.newaxis])"
   ]
  },
  {
   "cell_type": "code",
   "execution_count": 130,
   "metadata": {},
   "outputs": [
    {
     "data": {
      "text/plain": [
       "46.6"
      ]
     },
     "execution_count": 130,
     "metadata": {},
     "output_type": "execute_result"
    }
   ],
   "source": [
    "y_tr_M.max()"
   ]
  },
  {
   "cell_type": "code",
   "execution_count": 131,
   "metadata": {},
   "outputs": [],
   "source": [
    "Y_MAX = 60.0"
   ]
  },
  {
   "cell_type": "markdown",
   "metadata": {},
   "source": [
    "## Load completed code"
   ]
  },
  {
   "cell_type": "code",
   "execution_count": 132,
   "metadata": {},
   "outputs": [],
   "source": [
    "from performance_metrics import calc_root_mean_squared_error\n",
    "from cross_validation import train_models_and_calc_scores_for_n_fold_cv"
   ]
  },
  {
   "cell_type": "markdown",
   "metadata": {},
   "source": [
    "## Define useful plotting functions"
   ]
  },
  {
   "cell_type": "code",
   "execution_count": 133,
   "metadata": {},
   "outputs": [],
   "source": [
    "def plot_train_and_valid_error_vs_hyper(\n",
    "        hyper_list, err_tr_list=None, err_va_list=None,\n",
    "        ymax=40,\n",
    "        leg_loc='upper right',\n",
    "        xlabel='polynomial degree',\n",
    "        ylabel='RMSE'):\n",
    "    if err_va_list is not None:\n",
    "        plt.plot(hyper_list, err_va_list, 'rs-', label='valid');\n",
    "    if err_tr_list is not None:\n",
    "        plt.plot(hyper_list, err_tr_list, 'bd:', label='train');\n",
    "    plt.ylim([0, ymax]);\n",
    "    plt.legend(loc=leg_loc);\n",
    "    plt.xlabel(xlabel);\n",
    "    plt.ylabel(ylabel);"
   ]
  },
  {
   "cell_type": "markdown",
   "metadata": {},
   "source": [
    "## Method to sanitize predictions\n",
    "\n",
    "We are predicting MPG, which should \n",
    "* (1) always be positive, and\n",
    "* (2) will probably never exceed 120% of the largest value we see in train data"
   ]
  },
  {
   "cell_type": "code",
   "execution_count": 134,
   "metadata": {},
   "outputs": [],
   "source": [
    "def sanitize(yhat_N):\n",
    "    yhat_N = np.maximum(yhat_N, 0)\n",
    "    yhat_N = np.minimum(yhat_N, Y_MAX)\n",
    "    return yhat_N"
   ]
  },
  {
   "cell_type": "code",
   "execution_count": 135,
   "metadata": {},
   "outputs": [],
   "source": [
    "bad_yhat_N = np.asarray([-10, -1, 0, 1, 5, 10, 50, 55, 60, 65])"
   ]
  },
  {
   "cell_type": "code",
   "execution_count": 136,
   "metadata": {},
   "outputs": [
    {
     "data": {
      "text/plain": [
       "array([-10,  -1,   0,   1,   5,  10,  50,  55,  60,  65])"
      ]
     },
     "execution_count": 136,
     "metadata": {},
     "output_type": "execute_result"
    }
   ],
   "source": [
    "bad_yhat_N"
   ]
  },
  {
   "cell_type": "code",
   "execution_count": 137,
   "metadata": {},
   "outputs": [
    {
     "data": {
      "text/plain": [
       "array([ 0.,  0.,  0.,  1.,  5., 10., 50., 55., 60., 60.])"
      ]
     },
     "execution_count": 137,
     "metadata": {},
     "output_type": "execute_result"
    }
   ],
   "source": [
    "sanitize(bad_yhat_N)"
   ]
  },
  {
   "cell_type": "markdown",
   "metadata": {},
   "source": [
    "## Methods for building pipelines"
   ]
  },
  {
   "cell_type": "code",
   "execution_count": 138,
   "metadata": {},
   "outputs": [],
   "source": [
    "def make_poly_linear_regr_pipeline(degree=1):\n",
    "    pipeline = sklearn.pipeline.Pipeline(\n",
    "        steps=[\n",
    "         ('rescaler', sklearn.preprocessing.MinMaxScaler()),\n",
    "         ('poly_transformer', sklearn.preprocessing.PolynomialFeatures(degree=degree, include_bias=False)),\n",
    "         ('linear_regr', sklearn.linear_model.LinearRegression()),\n",
    "        ])\n",
    "    \n",
    "    # Return the constructed pipeline\n",
    "    # We can treat it as if it has a 'regression' API\n",
    "    # e.g. a fit and a predict method\n",
    "    return pipeline"
   ]
  },
  {
   "cell_type": "code",
   "execution_count": 139,
   "metadata": {},
   "outputs": [],
   "source": [
    "def make_poly_ridge_regr_pipeline(degree=1, alpha=1.0):\n",
    "    pipeline = sklearn.pipeline.Pipeline(\n",
    "        steps=[\n",
    "         ('rescaler', sklearn.preprocessing.MinMaxScaler()),\n",
    "         ('poly_transformer', sklearn.preprocessing.PolynomialFeatures(degree=degree, include_bias=False)),\n",
    "         ('linear_regr', sklearn.linear_model.Ridge(alpha=alpha)),\n",
    "        ])\n",
    "\n",
    "    # Return the constructed pipeline\n",
    "    # We can treat it as if it has a 'regression' API\n",
    "    # e.g. a fit and a predict method\n",
    "    return pipeline"
   ]
  },
  {
   "cell_type": "markdown",
   "metadata": {},
   "source": [
    "## Method to inspect learned weights"
   ]
  },
  {
   "cell_type": "code",
   "execution_count": 140,
   "metadata": {},
   "outputs": [],
   "source": [
    "def pretty_print_learned_weights(pipeline, xcolnames_F):\n",
    "    ''' Print the learned parameters of given pipeline\n",
    "    '''\n",
    "    my_lin_regr = pipeline.named_steps['linear_regr']\n",
    "\n",
    "    feat_names = pipeline.named_steps['poly_transformer'].get_feature_names_out()\n",
    "    coef_values = my_lin_regr.coef_\n",
    "\n",
    "    for feat, coef in zip(feat_names, coef_values):\n",
    "        print(\"% 7.2f : %s\" % (coef, feat))\n",
    "    \n",
    "    print(\"where \")\n",
    "    for ff, colname in enumerate(xcolnames_F):\n",
    "        print(\"x%d = %s\" % (ff, colname))"
   ]
  },
  {
   "cell_type": "markdown",
   "metadata": {},
   "source": [
    "# Problem 1: Polynomial Degree Selection on Fixed Validation Set\n",
    "\n",
    "**Implementation Step 1A:**\n",
    "\n",
    "Fit a linear regression model to a polynomial feature transformation of the provided training set at each of these possible degrees: [1, 2, 3, 4, 5, 6, 7]. For each hyperparameter setting, record the training set error and the validation set error."
   ]
  },
  {
   "cell_type": "code",
   "execution_count": 141,
   "metadata": {},
   "outputs": [],
   "source": [
    "degree_list = [1, 2, 3, 4, 5, 6, 7]\n",
    "fv_err_tr_list = []\n",
    "fv_err_va_list = []\n",
    "\n",
    "fv_pipeline_list = []\n",
    "for degree in degree_list:\n",
    "\n",
    "    # TODO create a pipeline using features with current degree value\n",
    "    # TODO train this pipeline on provided training data\n",
    "    pipeline = make_poly_linear_regr_pipeline(degree)\n",
    "    \n",
    "    pipeline.fit(x_tr_MF, y_tr_M)\n",
    "\n",
    "    # Compute training error\n",
    "    yhat_tr_M = pipeline.predict(x_tr_MF)  # TODO fixme, be sure to sanitize predictions\n",
    "    yhat_tr_M = sanitize(yhat_tr_M)\n",
    "    yhat_va_N = pipeline.predict(x_va_NF)  # TODO fixme, be sure to sanitize predictions\n",
    "    yhat_va_N = sanitize(yhat_va_N)\n",
    "\n",
    "    err_tr = calc_root_mean_squared_error(y_tr_M, yhat_tr_M) # TODO fixme\n",
    "    err_va = calc_root_mean_squared_error(y_va_N, yhat_va_N) # TODO fixme\n",
    "\n",
    "    fv_err_tr_list.append(err_tr)\n",
    "    fv_err_va_list.append(err_va)\n",
    "\n",
    "    # TODO store current pipeline for future use\n",
    "    fv_pipeline_list.append(pipeline)"
   ]
  },
  {
   "cell_type": "markdown",
   "metadata": {},
   "source": [
    "### Figure 1: Error vs degree"
   ]
  },
  {
   "cell_type": "code",
   "execution_count": 142,
   "metadata": {},
   "outputs": [
    {
     "data": {
      "image/png": "[encoded data removed]",
      "text/plain": [
       "<Figure size 432x288 with 1 Axes>"
      ]
     },
     "metadata": {},
     "output_type": "display_data"
    }
   ],
   "source": [
    "plot_train_and_valid_error_vs_hyper(\n",
    "    degree_list, fv_err_tr_list, fv_err_va_list, leg_loc='upper left');\n",
    "plt.title('RMSE vs. Degree');"
   ]
  },
  {
   "cell_type": "markdown",
   "metadata": {},
   "source": [
    "### Implementation 1B: Score on the test set using the chosen model\n",
    "\n",
    "Select the model hyperparameters that *minimize* your fixed validation set error. Using your already-trained LinearRegression model with these best hyperparameters, compute error on the *test* set. Save this test set error value for later."
   ]
  },
  {
   "cell_type": "code",
   "execution_count": 143,
   "metadata": {},
   "outputs": [
    {
     "name": "stdout",
     "output_type": "stream",
     "text": [
      "Selected Parameters:\n",
      "2\n",
      "Fixed validation set estimate of heldout error:\n",
      "3.974075330754534\n",
      "Error on the test-set:\n",
      "3.9915025464567635\n"
     ]
    }
   ],
   "source": [
    "# Find the degree corresponding to the minimum validation error\n",
    "min_err_va_degree = degree_list[np.argmin(fv_err_va_list)]\n",
    "print(\"Selected Parameters:\")\n",
    "print(min_err_va_degree)\n",
    "\n",
    "print(\"Fixed validation set estimate of heldout error:\")\n",
    "print(fv_err_va_list[np.argmin(fv_err_va_list)])\n",
    "\n",
    "# Set the degree parameter of the polynomial features transformation in the pipeline to the selected degree\n",
    "pipeline = fv_pipeline_list[min_err_va_degree-1]\n",
    "\n",
    "# Now, use the modified pipeline to make predictions on the test set\n",
    "yhat_te_P = pipeline.predict(x_te_PF)  # Assuming x_te_PF contains test set features\n",
    "yhat_te_P = sanitize(yhat_te_P)\n",
    "\n",
    "# Calculate the error on the test set\n",
    "err_te = calc_root_mean_squared_error(y_te_P, yhat_te_P)  # Assuming y_te_P contains test set targets\n",
    "print(\"Error on the test-set:\")\n",
    "print(err_te)"
   ]
  },
  {
   "cell_type": "code",
   "execution_count": 144,
   "metadata": {},
   "outputs": [],
   "source": [
    "err_te_list = []\n",
    "err_te_list.append(err_te)"
   ]
  },
  {
   "cell_type": "markdown",
   "metadata": {},
   "source": [
    "### Short Answer 1a in Report\n",
    "\n",
    "Investigate why preprocessing is necessary"
   ]
  },
  {
   "cell_type": "code",
   "execution_count": 145,
   "metadata": {},
   "outputs": [],
   "source": [
    "# WRITE THIS IN YOUR REPORT, NOT IN THIS NOTEBOOK"
   ]
  },
  {
   "cell_type": "markdown",
   "metadata": {},
   "source": [
    "### Short Answer 1b in Report\n",
    "\n",
    "Consider the model with degree 1. \n",
    "Following the starter code, print out the values of **all** the learned weight parameters (aka coefficients)."
   ]
  },
  {
   "cell_type": "code",
   "execution_count": 146,
   "metadata": {},
   "outputs": [
    {
     "name": "stdout",
     "output_type": "stream",
     "text": [
      "['horsepower', 'weight', 'cylinders', 'displacement']\n",
      " -10.43 : x0\n",
      " -18.23 : x1\n",
      "  -1.15 : x2\n",
      "   0.58 : x3\n",
      "where \n",
      "x0 = horsepower\n",
      "x1 = weight\n",
      "x2 = cylinders\n",
      "x3 = displacement\n"
     ]
    }
   ],
   "source": [
    "# TODO call pretty_print_learned_weights on your pipeline with degree=1 from above\n",
    "# Hint: The names of the original F=4 features are already in your workspace\n",
    "\n",
    "print(xcolnames_F)\n",
    "pretty_print_learned_weights(fv_pipeline_list[0], xcolnames_F)"
   ]
  },
  {
   "cell_type": "markdown",
   "metadata": {},
   "source": [
    "### Short Answer 1c in Report\n",
    "\n",
    "Consider the models with degree 3 or 4. \n",
    "Inspect the learned weight parameters, including the number of parameters and their relative magnitudes.\n",
    "\n",
    "What do you notice about these values compared to the values with degree 1 or 2?\n",
    "How might what you notice be connected to the trends in training and validation set performance you observe in Figure 1?"
   ]
  },
  {
   "cell_type": "code",
   "execution_count": 147,
   "metadata": {},
   "outputs": [
    {
     "name": "stdout",
     "output_type": "stream",
     "text": [
      " 617.45 : x0\n",
      "-191.08 : x1\n",
      " 1774.24 : x2\n",
      "-1343.56 : x3\n",
      " 159.25 : x0^2\n",
      "-323.66 : x0 x1\n",
      "-5179.64 : x0 x2\n",
      " 198.45 : x0 x3\n",
      "  61.37 : x1^2\n",
      " 2573.25 : x1 x2\n",
      "-1596.95 : x1 x3\n",
      "-5943.40 : x2^2\n",
      " 7359.52 : x2 x3\n",
      " 2883.15 : x3^2\n",
      "-630.58 : x0^3\n",
      " 1377.51 : x0^2 x1\n",
      "-1600.47 : x0^2 x2\n",
      " 1529.25 : x0^2 x3\n",
      "-105.12 : x0 x1^2\n",
      "-7880.76 : x0 x1 x2\n",
      " 12085.95 : x0 x1 x3\n",
      " 13051.50 : x0 x2^2\n",
      " 5626.91 : x0 x2 x3\n",
      "-14222.70 : x0 x3^2\n",
      " 611.22 : x1^3\n",
      "-1478.94 : x1^2 x2\n",
      "-359.76 : x1^2 x3\n",
      "-7343.55 : x1 x2^2\n",
      " 17674.97 : x1 x2 x3\n",
      "-13648.53 : x1 x3^2\n",
      " 4525.05 : x2^3\n",
      "  47.94 : x2^2 x3\n",
      "-34068.88 : x2 x3^2\n",
      " 20804.11 : x3^3\n",
      "-345.94 : x0^4\n",
      " 1047.47 : x0^3 x1\n",
      " 133.89 : x0^3 x2\n",
      " 702.32 : x0^3 x3\n",
      " 1031.68 : x0^2 x1^2\n",
      " 3678.25 : x0^2 x1 x2\n",
      "-11633.91 : x0^2 x1 x3\n",
      "-1147.94 : x0^2 x2^2\n",
      " 1506.00 : x0^2 x2 x3\n",
      " 3042.21 : x0^2 x3^2\n",
      "-5637.55 : x0 x1^3\n",
      " 3990.55 : x0 x1^2 x2\n",
      " 7624.03 : x0 x1^2 x3\n",
      " 12467.48 : x0 x1 x2^2\n",
      "-36650.46 : x0 x1 x2 x3\n",
      " 19120.42 : x0 x1 x3^2\n",
      "-6959.36 : x0 x2^3\n",
      "-12414.29 : x0 x2^2 x3\n",
      " 31670.59 : x0 x2 x3^2\n",
      "-15448.88 : x0 x3^3\n",
      "-524.40 : x1^4\n",
      "-3360.09 : x1^3 x2\n",
      " 9784.64 : x1^3 x3\n",
      " 4470.47 : x1^2 x2^2\n",
      "-2283.03 : x1^2 x2 x3\n",
      "-14453.48 : x1^2 x3^2\n",
      " 6639.92 : x1 x2^3\n",
      "-33016.35 : x1 x2^2 x3\n",
      " 48066.73 : x1 x2 x3^2\n",
      "-11747.60 : x1 x3^3\n",
      " 602.53 : x2^4\n",
      "-12796.21 : x2^3 x3\n",
      " 55023.35 : x2^2 x3^2\n",
      "-56683.53 : x2 x3^3\n",
      " 17563.69 : x3^4\n",
      "where \n",
      "x0 = horsepower\n",
      "x1 = weight\n",
      "x2 = cylinders\n",
      "x3 = displacement\n"
     ]
    }
   ],
   "source": [
    "# TODO\n",
    "pretty_print_learned_weights(fv_pipeline_list[3], xcolnames_F)"
   ]
  },
  {
   "cell_type": "markdown",
   "metadata": {},
   "source": [
    "# Problem 2: Alpha Selection on Fixed Val Set"
   ]
  },
  {
   "cell_type": "code",
   "execution_count": 148,
   "metadata": {},
   "outputs": [
    {
     "name": "stdout",
     "output_type": "stream",
     "text": [
      "[1.e-10 1.e-08 1.e-06 1.e-04 1.e-02 1.e+00 1.e+02 1.e+04 1.e+06]\n"
     ]
    }
   ],
   "source": [
    "my_degree = 4\n",
    "alpha_list = np.asarray([1.e-10, 1.e-08, 1.e-06, 1.e-04, 1.e-02, 1.e+00, 1.e+02, 1.e+04, 1.e+06])\n",
    "print(alpha_list)"
   ]
  },
  {
   "cell_type": "code",
   "execution_count": 149,
   "metadata": {},
   "outputs": [],
   "source": [
    "fv2_err_tr_list = []\n",
    "fv2_err_va_list = []\n",
    "fv2_pipeline_list = []\n",
    "\n",
    "for alpha in alpha_list:\n",
    "\n",
    "    # TODO create a pipeline using features with current degree value\n",
    "    pipeline2 = make_poly_ridge_regr_pipeline(my_degree, alpha)\n",
    "    # TODO train this pipeline on provided training data\n",
    "\n",
    "    pipeline2.fit(x_tr_MF, y_tr_M)\n",
    "\n",
    "    yhat_tr_M = pipeline2.predict(x_tr_MF)  # TODO fixme, be sure to sanitize predictions\n",
    "    yhat_tr_M = sanitize(yhat_tr_M)\n",
    "    \n",
    "    yhat_va_N = pipeline2.predict(x_va_NF)  # TODO fixme, be sure to sanitize predictions\n",
    "    yhat_va_N = sanitize(yhat_va_N)\n",
    "\n",
    "    assert np.all(yhat_va_N >= 0.0)\n",
    "    assert np.all(yhat_va_N <= Y_MAX)\n",
    "    \n",
    "    err_tr = calc_root_mean_squared_error(y_tr_M, yhat_tr_M) # TODO fixme\n",
    "    err_va = calc_root_mean_squared_error(y_va_N, yhat_va_N) # TODO fixme\n",
    "\n",
    "    fv2_err_tr_list.append(err_tr)\n",
    "    fv2_err_va_list.append(err_va)\n",
    "\n",
    "    # TODO store current pipeline for future use\n",
    "    fv2_pipeline_list.append(pipeline2)"
   ]
  },
  {
   "cell_type": "markdown",
   "metadata": {},
   "source": [
    "### Figure 2 in report\n",
    "\n",
    "Make a line plot of mean-squared error on y-axis vs. alpha on x-axis."
   ]
  },
  {
   "cell_type": "code",
   "execution_count": 150,
   "metadata": {},
   "outputs": [
    {
     "data": {
      "image/png": "[encoded data removed]",
      "text/plain": [
       "<Figure size 432x288 with 1 Axes>"
      ]
     },
     "metadata": {},
     "output_type": "display_data"
    }
   ],
   "source": [
    "plot_train_and_valid_error_vs_hyper(\n",
    "    alpha_list, fv2_err_tr_list, fv2_err_va_list,\n",
    "    xlabel='alpha (L2 penalty)', leg_loc='upper left');\n",
    "plt.gca().set_ylim([0, 10]);\n",
    "plt.gca().set_xscale('log');\n",
    "plt.title('Error vs. Alpha');"
   ]
  },
  {
   "cell_type": "markdown",
   "metadata": {},
   "source": [
    "### Implementation Step 2B\n",
    "\n",
    "Select the model hyperparameters that *minimize* your fixed validation set error. Using your already-trained model with these best hyperparameters, compute error on the *test* set. \n"
   ]
  },
  {
   "cell_type": "code",
   "execution_count": 151,
   "metadata": {},
   "outputs": [
    {
     "name": "stdout",
     "output_type": "stream",
     "text": [
      "Selected Parameters:\n",
      "0.01\n",
      "Fixed validation set estimate of heldout error:\n",
      "3.931387833481243\n",
      "Error on the test-set:\n",
      "3.877667860403774\n"
     ]
    }
   ],
   "source": [
    "index = fv2_err_va_list.index(min(fv2_err_va_list))\n",
    "print(\"Selected Parameters:\")\n",
    "print(alpha_list[index])\n",
    "print(\"Fixed validation set estimate of heldout error:\")\n",
    "print(fv2_err_va_list[index])\n",
    "\n",
    "pipeline2 = fv2_pipeline_list[index]\n",
    "\n",
    "# Now, use the modified pipeline to make predictions on the test set\n",
    "yhat_te_P = pipeline2.predict(x_te_PF)  # Assuming x_te_PF contains test set features\n",
    "yhat_te_P = sanitize(yhat_te_P)\n",
    "\n",
    "# Calculate the error on the test set\n",
    "err_te = calc_root_mean_squared_error(y_te_P, yhat_te_P)  # Assuming y_te_P contains test set targets\n",
    "print(\"Error on the test-set:\")\n",
    "print(err_te)"
   ]
  },
  {
   "cell_type": "code",
   "execution_count": 152,
   "metadata": {},
   "outputs": [],
   "source": [
    "# TODO Save this test set error value for later.\n",
    "err_te_list.append(err_te)"
   ]
  },
  {
   "cell_type": "markdown",
   "metadata": {},
   "source": [
    "### Short Answer 2a in Report\n",
    "\n",
    "Inspect the learned weight parameters of your chosen degree-4 model.\n",
    "What do you notice about the relative magnitudes compared to 1c above?"
   ]
  },
  {
   "cell_type": "code",
   "execution_count": 153,
   "metadata": {},
   "outputs": [
    {
     "name": "stdout",
     "output_type": "stream",
     "text": [
      " -39.88 : x0\n",
      "   1.56 : x1\n",
      "  14.71 : x2\n",
      " -13.32 : x3\n",
      "  -6.53 : x0^2\n",
      "  -5.93 : x0 x1\n",
      "  21.96 : x0 x2\n",
      "  24.36 : x0 x3\n",
      " -22.82 : x1^2\n",
      "   2.39 : x1 x2\n",
      "  -2.18 : x1 x3\n",
      " -19.42 : x2^2\n",
      " -26.81 : x2 x3\n",
      "   3.47 : x3^2\n",
      "   9.93 : x0^3\n",
      "   5.41 : x0^2 x1\n",
      "   9.37 : x0^2 x2\n",
      "  14.07 : x0^2 x3\n",
      "   8.22 : x0 x1^2\n",
      "   7.41 : x0 x1 x2\n",
      "  12.85 : x0 x1 x3\n",
      "   0.12 : x0 x2^2\n",
      "  -1.49 : x0 x2 x3\n",
      "   0.97 : x0 x3^2\n",
      "  -5.93 : x1^3\n",
      "  -2.12 : x1^2 x2\n",
      "  -2.79 : x1^2 x3\n",
      "   0.19 : x1 x2^2\n",
      "  -2.80 : x1 x2 x3\n",
      "  -0.49 : x1 x3^2\n",
      "  -4.76 : x2^3\n",
      "  -3.17 : x2^2 x3\n",
      "   3.10 : x2 x3^2\n",
      "   5.33 : x3^3\n",
      "   5.15 : x0^4\n",
      "  -4.71 : x0^3 x1\n",
      "  -1.87 : x0^3 x2\n",
      "   5.64 : x0^3 x3\n",
      "  -2.97 : x0^2 x1^2\n",
      "  -5.04 : x0^2 x1 x2\n",
      "   1.79 : x0^2 x1 x3\n",
      " -10.96 : x0^2 x2^2\n",
      "  -4.93 : x0^2 x2 x3\n",
      "  -3.79 : x0^2 x3^2\n",
      "   4.44 : x0 x1^3\n",
      "   2.40 : x0 x1^2 x2\n",
      "   5.23 : x0 x1^2 x3\n",
      "  -4.37 : x0 x1 x2^2\n",
      "  -0.25 : x0 x1 x2 x3\n",
      "  -1.68 : x0 x1 x3^2\n",
      " -16.61 : x0 x2^3\n",
      " -11.02 : x0 x2^2 x3\n",
      " -10.19 : x0 x2 x3^2\n",
      " -13.04 : x0 x3^3\n",
      "   2.39 : x1^4\n",
      "   3.05 : x1^3 x2\n",
      "   0.24 : x1^3 x3\n",
      "   2.79 : x1^2 x2^2\n",
      "   1.78 : x1^2 x2 x3\n",
      "  -2.91 : x1^2 x3^2\n",
      "   4.22 : x1 x2^3\n",
      "   6.13 : x1 x2^2 x3\n",
      "   2.56 : x1 x2 x3^2\n",
      "  -4.81 : x1 x3^3\n",
      "  12.25 : x2^4\n",
      "  17.03 : x2^3 x3\n",
      "  14.30 : x2^2 x3^2\n",
      "   6.02 : x2 x3^3\n",
      "  -4.64 : x3^4\n",
      "where \n",
      "x0 = horsepower\n",
      "x1 = weight\n",
      "x2 = cylinders\n",
      "x3 = displacement\n"
     ]
    }
   ],
   "source": [
    "pretty_print_learned_weights(fv2_pipeline_list[index], xcolnames_F)"
   ]
  },
  {
   "cell_type": "code",
   "execution_count": null,
   "metadata": {},
   "outputs": [],
   "source": []
  },
  {
   "cell_type": "markdown",
   "metadata": {},
   "source": [
    "# Data preprocessing for Problem 3"
   ]
  },
  {
   "cell_type": "markdown",
   "metadata": {},
   "source": [
    "For this problem, you'll again use the provided training set and validation sets. However, you'll *merge* these into a large \"development\" set that contains 292 examples total."
   ]
  },
  {
   "cell_type": "code",
   "execution_count": 154,
   "metadata": {},
   "outputs": [
    {
     "name": "stdout",
     "output_type": "stream",
     "text": [
      "(292, 4)\n"
     ]
    }
   ],
   "source": [
    "x_trva_LF = np.vstack([x_tr_MF, x_va_NF])\n",
    "y_trva_L = np.hstack([y_tr_M, y_va_N])\n",
    "\n",
    "print(x_trva_LF.shape)"
   ]
  },
  {
   "cell_type": "markdown",
   "metadata": {},
   "source": [
    "# Problem 3: Cross Validation for Polynomial Feature Regression"
   ]
  },
  {
   "cell_type": "markdown",
   "metadata": {},
   "source": [
    "### Implementation step 3A\n",
    "\n",
    "For each possible `alpha` value as well as each possible polynomial degree, train and evaluate a `Ridge` regression model across the entire train+validation set using 10-fold cross validation. Use the CV methods you implemented in `cross_validation.py`. For each possible hyperparameter (alpha value and degree value), your 10-fold CV procedure will give you an estimate of the training error and heldout validation error (averaged across all folds). \n"
   ]
  },
  {
   "cell_type": "code",
   "execution_count": 155,
   "metadata": {},
   "outputs": [],
   "source": [
    "K = 10 # num folds of CV\n",
    "degree_list = [1, 2, 3, 4, 5, 6, 7]\n",
    "alpha_list = np.logspace(-10, 6, 17)\n",
    "\n",
    "ridge_param_list = []\n",
    "for alpha in alpha_list:\n",
    "    for degree in degree_list:\n",
    "        ridge_param_list.append(dict(degree=degree, alpha=alpha))\n",
    "        \n",
    "cv_train_err_list = []\n",
    "cv_valid_err_list = []\n",
    "cv_pipeline_list = []\n",
    "for param in ridge_param_list:\n",
    "    degree = param['degree']\n",
    "    alpha = param['alpha']\n",
    "    pipeline3 = make_poly_ridge_regr_pipeline(degree, alpha)\n",
    "    \n",
    "    # TODO call your function to train a separate model for each fold and return train and valid errors\n",
    "    # Don't forget to pass random_state = SEED (where SEED is defined above) so its reproducible\n",
    "    # tr_error_K, valid_error_K = train_models_and_calc_scores_for_n_fold_cv() # TODO\n",
    "\n",
    "    tr_err_K, valid_error_K = train_models_and_calc_scores_for_n_fold_cv(pipeline3, x_trva_LF, y_trva_L, K, SEED)\n",
    "\n",
    "    err_tr = np.mean(tr_err_K) # TODO fixme, compute average error across all train folds\n",
    "    err_va = np.mean(valid_error_K) # TODO fixme, compute average error across all heldout folds\n",
    "    \n",
    "    cv_train_err_list.append(err_tr)\n",
    "    cv_valid_err_list.append(err_va)\n",
    "\n",
    "    cv_pipeline_list.append(pipeline3)"
   ]
  },
  {
   "cell_type": "markdown",
   "metadata": {},
   "source": [
    "### Implementation step 3B\n",
    "\n",
    "Select the model hyperparameters that *minimize* your estimated cross-validation error. Using these best hyperparameters, retrain the model using the full development set (concatenating the predefined training and validation sets). Then compute that (retrained) model's error on the test set.\n",
    "\n",
    "Save this test set error value for later."
   ]
  },
  {
   "cell_type": "code",
   "execution_count": 2,
   "metadata": {},
   "outputs": [
    {
     "data": {
      "image/png": "[encoded data removed]",
      "text/plain": [
       "<Figure size 432x288 with 1 Axes>"
      ]
     },
     "metadata": {
      "needs_background": "light"
     },
     "output_type": "display_data"
    },
    {
     "name": "stdout",
     "output_type": "stream",
     "text": [
      "Slope of the line of best fit: 0.007870812499999992\n"
     ]
    }
   ],
   "source": [
    "import numpy as np\n",
    "import matplotlib.pyplot as plt\n",
    "\n",
    "# Additional data points\n",
    "x_data_additional = np.array([12, 8, 4])  # % H2O2\n",
    "y_data_additional = np.array([0.12483, 0.1756635, 0.0618635])  # Reaction rate in kPa/s\n",
    "\n",
    "# Perform linear regression to find the slope (m) and intercept (b)\n",
    "m_additional, b_additional = np.polyfit(x_data_additional, y_data_additional, 1)\n",
    "\n",
    "# Generate the line of best fit\n",
    "x_fit_additional = np.linspace(min(x_data_additional), max(x_data_additional), 100)\n",
    "y_fit_additional = m_additional * x_fit_additional + b_additional\n",
    "\n",
    "# Plot the data points and the line of best fit\n",
    "plt.scatter(x_data_additional, y_data_additional, label='Data Points', color='green')\n",
    "plt.plot(x_fit_additional, y_fit_additional, color='blue', label=f'Line of Best Fit (slope={m_additional:.4f})')\n",
    "\n",
    "# Add labels, title, and legend\n",
    "plt.xlabel('% H2O2')\n",
    "plt.ylabel('Average Reaction Rate (kPa/s)')\n",
    "plt.title('Reaction Rate vs %H2O2 at 15.3°C')\n",
    "plt.legend()\n",
    "\n",
    "# Show the plot\n",
    "plt.grid(True)\n",
    "plt.show()\n",
    "\n",
    "# Print the slope\n",
    "print(\"Slope of the line of best fit:\", m_additional)\n"
   ]
  },
  {
   "cell_type": "code",
   "execution_count": 5,
   "metadata": {},
   "outputs": [
    {
     "data": {
      "image/png": "[encoded data removed]",
      "text/plain": [
       "<Figure size 432x288 with 1 Axes>"
      ]
     },
     "metadata": {
      "needs_background": "light"
     },
     "output_type": "display_data"
    },
    {
     "name": "stdout",
     "output_type": "stream",
     "text": [
      "Slope of the line of best fit: 0.038722321428571425\n"
     ]
    }
   ],
   "source": [
    "import numpy as np\n",
    "import matplotlib.pyplot as plt\n",
    "\n",
    "# Data points\n",
    "x_data = np.array([2, 4, 8])  # % H2O2\n",
    "y_data = np.array([0.06375, 0.2019125, 0.3082275])  # Reaction rate in kPa/s\n",
    "\n",
    "# Perform linear regression to find the slope (m) and intercept (b)\n",
    "m, b = np.polyfit(x_data, y_data, 1)\n",
    "\n",
    "# Generate the line of best fit\n",
    "x_fit = np.linspace(min(x_data), max(x_data), 100)\n",
    "y_fit = m * x_fit + b\n",
    "\n",
    "# Plot the data points and the line of best fit\n",
    "plt.scatter(x_data, y_data, label='Data Points')\n",
    "plt.plot(x_fit, y_fit, color='red', label=f'Line of Best Fit (slope={m:.4f})')\n",
    "\n",
    "# Add labels and legend\n",
    "plt.xlabel('% H2O2')\n",
    "plt.ylabel('Average Reaction Rate (kPa/s)')\n",
    "plt.title('Reaction Rate vs % H2O2 at 20.3°C')\n",
    "plt.legend()\n",
    "\n",
    "# Show the plot\n",
    "plt.grid(True)\n",
    "plt.show()\n",
    "\n",
    "# Print the slope\n",
    "print(\"Slope of the line of best fit:\", m)\n"
   ]
  },
  {
   "cell_type": "code",
   "execution_count": 157,
   "metadata": {},
   "outputs": [
    {
     "name": "stdout",
     "output_type": "stream",
     "text": [
      "69\n",
      "Selected Parameters:\n",
      "best degree:  7\n",
      "best alpha:  0.1\n",
      "10-fold CV estimate of heldout error:\n",
      "3.86811\n",
      "Error on the test-set:\n",
      "3.8299907901848718\n"
     ]
    }
   ],
   "source": [
    "index = cv_valid_err_list.index(min(cv_valid_err_list))\n",
    "print(index)\n",
    "best_param = ridge_param_list[index]\n",
    "\n",
    "print(\"Selected Parameters:\")\n",
    "print(\"best degree: \", best_param['degree'])\n",
    "print(\"best alpha: \", best_param['alpha'])\n",
    "\n",
    "print(\"10-fold CV estimate of heldout error:\")\n",
    "print(cv_valid_err_list[index])\n",
    "\n",
    "pipeline3 = cv_pipeline_list[index]\n",
    "\n",
    "# Now, use the modified pipeline to make predictions on the test set\n",
    "yhat_te_P = pipeline3.predict(x_te_PF)  # Assuming x_te_PF contains test set features\n",
    "yhat_te_P = sanitize(yhat_te_P)\n",
    "\n",
    "# Calculate the error on the test set\n",
    "err_te = calc_root_mean_squared_error(y_te_P, yhat_te_P)  # Assuming y_te_P contains test set targets\n",
    "print(\"Error on the test-set:\")\n",
    "print(err_te)\n",
    "\n",
    "err_te_list.append(err_te)"
   ]
  },
  {
   "cell_type": "markdown",
   "metadata": {},
   "source": [
    "## Table 3 : Comparing pipelines on test set"
   ]
  },
  {
   "cell_type": "code",
   "execution_count": 163,
   "metadata": {},
   "outputs": [
    {
     "data": {
      "image/png": "[encoded data removed]",
      "text/plain": [
       "<Figure size 720x432 with 1 Axes>"
      ]
     },
     "metadata": {},
     "output_type": "display_data"
    },
    {
     "name": "stdout",
     "output_type": "stream",
     "text": [
      "                   Regressor  Test Set RMSE\n",
      "0                   Baseline       7.104481\n",
      "1                Poly+Linear       3.991503\n",
      "2  Poly+Ridge (Fixed Degree)       3.877668\n",
      "3            Poly+Ridge (CV)       3.829991\n"
     ]
    }
   ],
   "source": [
    "from sklearn.base import BaseEstimator, TransformerMixin\n",
    "\n",
    "class BaselinePredictor(BaseEstimator, TransformerMixin):\n",
    "    def fit(self, X, y):\n",
    "        self.mean_y = np.mean(y)\n",
    "        return self\n",
    "    \n",
    "    def predict(self, X):\n",
    "        return np.full(X.shape[0], self.mean_y)\n",
    "\n",
    "base = BaselinePredictor()\n",
    "base.fit(x_tr_MF, y_tr_M)\n",
    "y_hat = base.predict(x_te_PF)\n",
    "\n",
    "base_err = calc_root_mean_squared_error(y_te_P, y_hat)\n",
    "\n",
    "# Define the regressor names\n",
    "regressors = [\"Baseline\", \"Poly+Linear\", \"Poly+Ridge (Fixed Degree)\", \"Poly+Ridge (CV)\"]\n",
    "\n",
    "# Define the RMSE values for each regressor (example placeholder values)\n",
    "rmse_values = [base_err, err_te_list[0], err_te_list[1], err_te_list[2]]\n",
    "\n",
    "# Define colors for each bar\n",
    "colors = ['skyblue', 'lightgreen', 'salmon', 'lightcoral']\n",
    "\n",
    "# Create a bar graph with different colors for each bar\n",
    "plt.figure(figsize=(10, 6))\n",
    "bars = plt.bar(regressors, rmse_values, color=colors)\n",
    "\n",
    "# Add labels and title\n",
    "plt.xlabel('Regressor')\n",
    "plt.ylabel('Test Set RMSE')\n",
    "plt.title('Comparison of Test Set RMSE for Different Regressors')\n",
    "\n",
    "# Rotate the x-axis labels\n",
    "plt.xticks(rotation=45)\n",
    "\n",
    "# Display the bar graph\n",
    "plt.show()\n",
    "\n",
    "\n",
    "\n",
    "\n",
    "\n",
    "# Create a pandas DataFrame with the regressor names and RMSE values\n",
    "df = pd.DataFrame({\n",
    "    'Regressor': regressors,\n",
    "    'Test Set RMSE': rmse_values\n",
    "})\n",
    "\n",
    "# Display the DataFrame\n",
    "print(df)\n"
   ]
  },
  {
   "cell_type": "markdown",
   "metadata": {},
   "source": []
  },
  {
   "cell_type": "markdown",
   "metadata": {},
   "source": [
    "This is the 2024S version of this assignment. Please do not remove or make changes to this block. Otherwise, you submission will be viewed as files copied from other resources."
   ]
  }
 ],
 "metadata": {
  "kernelspec": {
   "display_name": "Python 3 (ipykernel)",
   "language": "python",
   "name": "python3"
  },
  "language_info": {
   "codemirror_mode": {
    "name": "ipython",
    "version": 3
   },
   "file_extension": ".py",
   "mimetype": "text/x-python",
   "name": "python",
   "nbconvert_exporter": "python",
   "pygments_lexer": "ipython3",
   "version": "3.9.12"
  }
 },
 "nbformat": 4,
 "nbformat_minor": 4
}
